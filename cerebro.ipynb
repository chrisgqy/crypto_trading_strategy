{
 "cells": [
  {
   "cell_type": "code",
   "execution_count": 1,
   "metadata": {},
   "outputs": [],
   "source": [
    "import backtrader as bt  \n",
    "import datetime  \n",
    "import pandas as pd  \n",
    "import talib  \n",
    "import os"
   ]
  },
  {
   "cell_type": "code",
   "execution_count": null,
   "metadata": {},
   "outputs": [],
   "source": [
    "def load_data_from_csv(file_path):\n",
    "    df = pd.read_csv(file_path, index_col=0)\n",
    "    df.index = pd.to_datetime(df.index)\n",
    "    return df\n",
    "\n",
    "stock_names = ['Ping An Bank', 'Kweichow Moutai', 'Ping An Insurance']\n",
    "stock_codes = ['000001.SZ', '600519.SH', '601318.SH']\n",
    "stock_data = {}\n",
    "\n",
    "for i, name in enumerate(stock_names):\n",
    "    file_path = f'data/{name}_data.csv'\n",
    "    if os.path.exists(file_path):\n",
    "        stock_data[name] = load_data_from_csv(file_path)\n",
    "        print(f\"Loading {name} data from CSV file\")\n",
    "    else:\n",
    "        import tushare as ts\n",
    "        ts.set_token('YOUR_TUSHARE_TOKEN')\n",
    "        pro = ts.pro_api()\n",
    "        \n",
    "        df = pro.daily(ts_code=stock_codes[i], start_date='20220101', end_date='20230101')\n",
    "        df = df.sort_values('trade_date')\n",
    "        df['trade_date'] = pd.to_datetime(df['trade_date'])\n",
    "        df.set_index('trade_date', inplace=True)\n",
    "        \n",
    "        stock_data[name] = df\n",
    "        print(f\"Fetching {name} data from Tushare\")"
   ]
  }
 ],
 "metadata": {
  "kernelspec": {
   "display_name": "crypto",
   "language": "python",
   "name": "python3"
  },
  "language_info": {
   "codemirror_mode": {
    "name": "ipython",
    "version": 3
   },
   "file_extension": ".py",
   "mimetype": "text/x-python",
   "name": "python",
   "nbconvert_exporter": "python",
   "pygments_lexer": "ipython3",
   "version": "3.12.9"
  }
 },
 "nbformat": 4,
 "nbformat_minor": 2
}
